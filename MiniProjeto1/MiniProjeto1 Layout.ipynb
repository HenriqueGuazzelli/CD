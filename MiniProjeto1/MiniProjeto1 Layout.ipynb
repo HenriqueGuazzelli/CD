{
 "cells": [
  {
   "cell_type": "markdown",
   "metadata": {},
   "source": [
    "___\n",
    "# MINIPROJETO 1"
   ]
  },
  {
   "cell_type": "markdown",
   "metadata": {},
   "source": [
    "___\n",
    "## <font color='red'>HENRIQUE MELLO GUAZZELLI</font>\n",
    "___"
   ]
  },
  {
   "cell_type": "markdown",
   "metadata": {},
   "source": [
    "## <font color='blue'>Média de jardas obtidas por recepção para cada time da NFL</font>"
   ]
  },
  {
   "cell_type": "markdown",
   "metadata": {},
   "source": [
    "___\n",
    "### Itens 1 a 3 - Resolução:"
   ]
  },
  {
   "cell_type": "code",
   "execution_count": 99,
   "metadata": {
    "collapsed": false
   },
   "outputs": [
    {
     "name": "stdout",
     "output_type": "stream",
     "text": [
      "Esperamos trabalhar no diretório\n",
      "C:\\Users\\Henrique\\Documents\\semestre2-insper\\CIENCIA DOS DADOS\n"
     ]
    }
   ],
   "source": [
    "%matplotlib inline\n",
    "import pandas as pd\n",
    "import matplotlib.pyplot as plt\n",
    "import numpy as np\n",
    "import os\n",
    "from scipy import stats\n",
    "\n",
    "print('Esperamos trabalhar no diretório')\n",
    "print(os.getcwd())"
   ]
  },
  {
   "cell_type": "code",
   "execution_count": 100,
   "metadata": {
    "collapsed": false
   },
   "outputs": [],
   "source": [
    "a = pd.read_csv('nfl06.csv')"
   ]
  },
  {
   "cell_type": "code",
   "execution_count": 101,
   "metadata": {
    "collapsed": false
   },
   "outputs": [],
   "source": [
    "nfl = pd.DataFrame()"
   ]
  },
  {
   "cell_type": "code",
   "execution_count": 102,
   "metadata": {
    "collapsed": false
   },
   "outputs": [
    {
     "data": {
      "text/html": [
       "<div>\n",
       "<table border=\"1\" class=\"dataframe\">\n",
       "  <thead>\n",
       "    <tr style=\"text-align: right;\">\n",
       "      <th></th>\n",
       "      <th>jardas por recepção</th>\n",
       "    </tr>\n",
       "  </thead>\n",
       "  <tbody>\n",
       "    <tr>\n",
       "      <th>0</th>\n",
       "      <td>4.9</td>\n",
       "    </tr>\n",
       "    <tr>\n",
       "      <th>1</th>\n",
       "      <td>3.8</td>\n",
       "    </tr>\n",
       "    <tr>\n",
       "      <th>2</th>\n",
       "      <td>4.0</td>\n",
       "    </tr>\n",
       "    <tr>\n",
       "      <th>3</th>\n",
       "      <td>4.1</td>\n",
       "    </tr>\n",
       "    <tr>\n",
       "      <th>4</th>\n",
       "      <td>3.7</td>\n",
       "    </tr>\n",
       "  </tbody>\n",
       "</table>\n",
       "</div>"
      ],
      "text/plain": [
       "   jardas por recepção\n",
       "0                  4.9\n",
       "1                  3.8\n",
       "2                  4.0\n",
       "3                  4.1\n",
       "4                  3.7"
      ]
     },
     "execution_count": 102,
     "metadata": {},
     "output_type": "execute_result"
    }
   ],
   "source": [
    "nfl['jardas por recepção'] = a.YPR\n",
    "nfl.head()"
   ]
  },
  {
   "cell_type": "code",
   "execution_count": 103,
   "metadata": {
    "collapsed": false
   },
   "outputs": [],
   "source": [
    "jardas = []\n",
    "for jarda in nfl['jardas por recepção']:\n",
    "    jardas.append(jarda)\n",
    "\n",
    "jardas.sort()"
   ]
  },
  {
   "cell_type": "code",
   "execution_count": 104,
   "metadata": {
    "collapsed": false
   },
   "outputs": [
    {
     "data": {
      "text/html": [
       "<div>\n",
       "<table border=\"1\" class=\"dataframe\">\n",
       "  <thead>\n",
       "    <tr style=\"text-align: right;\">\n",
       "      <th></th>\n",
       "      <th>jardas por recepção</th>\n",
       "    </tr>\n",
       "  </thead>\n",
       "  <tbody>\n",
       "    <tr>\n",
       "      <th>count</th>\n",
       "      <td>32.000000</td>\n",
       "    </tr>\n",
       "    <tr>\n",
       "      <th>mean</th>\n",
       "      <td>4.134375</td>\n",
       "    </tr>\n",
       "    <tr>\n",
       "      <th>std</th>\n",
       "      <td>0.527691</td>\n",
       "    </tr>\n",
       "    <tr>\n",
       "      <th>min</th>\n",
       "      <td>3.200000</td>\n",
       "    </tr>\n",
       "    <tr>\n",
       "      <th>25%</th>\n",
       "      <td>3.775000</td>\n",
       "    </tr>\n",
       "    <tr>\n",
       "      <th>50%</th>\n",
       "      <td>4.000000</td>\n",
       "    </tr>\n",
       "    <tr>\n",
       "      <th>75%</th>\n",
       "      <td>4.425000</td>\n",
       "    </tr>\n",
       "    <tr>\n",
       "      <th>max</th>\n",
       "      <td>5.500000</td>\n",
       "    </tr>\n",
       "  </tbody>\n",
       "</table>\n",
       "</div>"
      ],
      "text/plain": [
       "       jardas por recepção\n",
       "count            32.000000\n",
       "mean              4.134375\n",
       "std               0.527691\n",
       "min               3.200000\n",
       "25%               3.775000\n",
       "50%               4.000000\n",
       "75%               4.425000\n",
       "max               5.500000"
      ]
     },
     "execution_count": 104,
     "metadata": {},
     "output_type": "execute_result"
    }
   ],
   "source": [
    "nfl.describe()"
   ]
  },
  {
   "cell_type": "code",
   "execution_count": 105,
   "metadata": {
    "collapsed": false
   },
   "outputs": [
    {
     "name": "stdout",
     "output_type": "stream",
     "text": [
      "0.406586399182\n"
     ]
    }
   ],
   "source": [
    "delta = (nfl['jardas por recepção'].max() - nfl['jardas por recepção'].min())/np.sqrt(32)\n",
    "print(delta)"
   ]
  },
  {
   "cell_type": "code",
   "execution_count": 106,
   "metadata": {
    "collapsed": true
   },
   "outputs": [],
   "source": [
    "delta = 0.4"
   ]
  },
  {
   "cell_type": "code",
   "execution_count": 107,
   "metadata": {
    "collapsed": false
   },
   "outputs": [
    {
     "data": {
      "text/plain": [
       "(3.8, 4.2]    9\n",
       "(3.4, 3.8]    8\n",
       "(4.6, 5]      6\n",
       "(4.2, 4.6]    6\n",
       "(3, 3.4]      2\n",
       "(5.4, 5.8]    1\n",
       "(5, 5.4]      0\n",
       "dtype: int64"
      ]
     },
     "execution_count": 107,
     "metadata": {},
     "output_type": "execute_result"
    }
   ],
   "source": [
    "faixa = np.arange(3,6,delta)\n",
    "faixa_jarda = pd.cut(nfl['jardas por recepção'], faixa)\n",
    "faixa_jarda.value_counts()"
   ]
  },
  {
   "cell_type": "code",
   "execution_count": 108,
   "metadata": {
    "collapsed": true
   },
   "outputs": [],
   "source": [
    "jardas = pd.Series(data=sorted(nfl['jardas por recepção']))"
   ]
  },
  {
   "cell_type": "code",
   "execution_count": 109,
   "metadata": {
    "collapsed": false
   },
   "outputs": [
    {
     "data": {
      "image/png": "[encoded data removed]",
      "text/plain": [
       "<matplotlib.figure.Figure at 0x16e7e464710>"
      ]
     },
     "metadata": {},
     "output_type": "display_data"
    }
   ],
   "source": [
    "plot = jardas.plot.hist(bins=faixa,title='Histograma - Média de jardas por recepção',normed=True)"
   ]
  },
  {
   "cell_type": "markdown",
   "metadata": {
    "collapsed": true
   },
   "source": [
    "___\n",
    "### Itens 4 a 6 - Resolução:"
   ]
  },
  {
   "cell_type": "markdown",
   "metadata": {},
   "source": [
    "### Item 4"
   ]
  },
  {
   "cell_type": "markdown",
   "metadata": {
    "collapsed": true
   },
   "source": [
    "O histograma segue o comportamento de uma assimetria positiva."
   ]
  },
  {
   "cell_type": "markdown",
   "metadata": {
    "collapsed": true
   },
   "source": [
    "#### Distribuições teóricas"
   ]
  },
  {
   "cell_type": "markdown",
   "metadata": {},
   "source": [
    "**1)** O histograma acima se parece muito com um gráfico da função \n",
    "*Gamma*.\n"
   ]
  },
  {
   "cell_type": "markdown",
   "metadata": {},
   "source": [
    "**2)** Outro gráfico que é semelhante ao histograma acima é o da função *inverse Gaussian*."
   ]
  },
  {
   "cell_type": "markdown",
   "metadata": {},
   "source": [
    "### Item 5"
   ]
  },
  {
   "cell_type": "code",
   "execution_count": 138,
   "metadata": {
    "collapsed": false
   },
   "outputs": [],
   "source": [
    "#Para lognormamma\n",
    "sigma = 0.5\n",
    "mi = 0\n",
    "\n",
    "\n",
    "#Para inversa gaussiana\n",
    "_lambda = 0.5\n",
    "mi = 1"
   ]
  },
  {
   "cell_type": "markdown",
   "metadata": {},
   "source": [
    "### Item 6"
   ]
  },
  {
   "cell_type": "code",
   "execution_count": 139,
   "metadata": {
    "collapsed": true
   },
   "outputs": [],
   "source": [
    "#Para lognorm\n",
    "param_lognorm = stats.lognorm.fit(jardas)\n",
    "\n",
    "loc_lognorm = param_lognorm[1]\n",
    "scale_lognorm = param_lognorm[2]\n",
    "\n",
    "#para inversa gaussiana\n",
    "param_gauss = stats.invgauss.fit(jardas)\n",
    "mu_gauss = param_gauss[0]\n",
    "loc_gauss = param_gauss[1]\n",
    "scale_gauss = param_gauss[2]"
   ]
  },
  {
   "cell_type": "code",
   "execution_count": 122,
   "metadata": {
    "collapsed": false
   },
   "outputs": [
    {
     "name": "stdout",
     "output_type": "stream",
     "text": [
      "(0.27980935994192502, 2.2960831198169878, 1.7679511535460928)\n",
      "(0.078058077431366307, 2.2622788433962908, 23.983374429371722)\n"
     ]
    }
   ],
   "source": [
    "print(stats.lognorm.fit(jardas))\n",
    "print(stats.invgauss.fit(jardas))"
   ]
  },
  {
   "cell_type": "markdown",
   "metadata": {
    "collapsed": true
   },
   "source": [
    "___\n",
    "### Itens 7 a 9 - Resolução:"
   ]
  },
  {
   "cell_type": "markdown",
   "metadata": {},
   "source": [
    "### Item 7"
   ]
  },
  {
   "cell_type": "markdown",
   "metadata": {},
   "source": [
    "Utilizarei os valores obtidos no item 6"
   ]
  },
  {
   "cell_type": "code",
   "execution_count": 136,
   "metadata": {
    "collapsed": false
   },
   "outputs": [
    {
     "data": {
      "text/plain": [
       "<matplotlib.legend.Legend at 0x16e0049cbe0>"
      ]
     },
     "execution_count": 136,
     "metadata": {},
     "output_type": "execute_result"
    },
    {
     "data": {
      "image/png": "[encoded data removed]",
      "text/plain": [
       "<matplotlib.figure.Figure at 0x16e7e55e588>"
      ]
     },
     "metadata": {},
     "output_type": "display_data"
    }
   ],
   "source": [
    "x = np.linspace(3, 7, 10000)\n",
    "\n",
    "nfl['jardas por recepção'].plot.hist(bins=faixa,title='Histograma - Média de jardas por recepção',normed=True)\n",
    "lognorm = stats.lognorm.pdf(x, param_lognorm[0], loc=loc_lognorm, scale=scale_lognorm)\n",
    "gauss = stats.invgauss.pdf(x, scale=scale_gauss, loc=loc_gauss, mu=mu_gauss)\n",
    "\n",
    "\n",
    "plt.plot(x, lognorm, '-', color='green', label=\"lognorm\") # Plota a lognorm teórica\n",
    "plt.plot(x, gauss, '-', color='red', label=\"InvGauss\") # Plota a invgauss teórica\n",
    "\n",
    "plt.legend()"
   ]
  },
  {
   "cell_type": "markdown",
   "metadata": {},
   "source": [
    "### Item 8"
   ]
  },
  {
   "cell_type": "markdown",
   "metadata": {},
   "source": [
    "## Q-Qplot\n",
    "O Q-Q-Plot permite comparar o valor dos quantis encontrados nos dados com o que seria o quantil teórico de uma distribuição estudada"
   ]
  },
  {
   "cell_type": "code",
   "execution_count": 140,
   "metadata": {
    "collapsed": false
   },
   "outputs": [
    {
     "data": {
      "image/png": "[encoded data removed]",
      "text/plain": [
       "<matplotlib.figure.Figure at 0x16e004cb400>"
      ]
     },
     "metadata": {},
     "output_type": "display_data"
    }
   ],
   "source": [
    "fra = [] # frequencia relativa acumulada\n",
    "for i in range(len(jardas)):\n",
    "    acc = (i - 0.5) / len(jardas)\n",
    "    if acc < 0:\n",
    "        acc = 0\n",
    "    fra.append(acc)\n",
    "\n",
    "# Convertemos fra em uma Series do Pandas\n",
    "fra = pd.Series(data=fra)\n",
    "\n",
    "# Gera os valores dos quantis teóricos para as distribuições analisadas\n",
    "q_lognorm = stats.lognorm.ppf(fra, param_lognorm[0], loc=loc_lognorm, scale=scale_lognorm)\n",
    "q_gauss = stats.invgauss.ppf(fra, mu=mu_gauss,scale=scale_gauss,loc=loc_gauss)\n",
    "\n",
    "\n",
    "fig = plt.figure(figsize=(12,8))\n",
    "\n",
    "plt.title(\"Q-Q plot: Dados x InvGauss x Lognorm\")\n",
    "\n",
    "lognorm_plot, = plt.plot(jardas, q_lognorm, 'o', color=\"green\", label = \"lognorm\")\n",
    "gauss_plot, = plt.plot(jardas, q_gauss, 'o', color=\"red\", label = \"InvGauss\")\n",
    "\n",
    "plt.legend(handles=[lognorm_plot,gauss_plot])\n",
    "plt.plot((min(jardas), max(jardas)), (min(jardas), max(jardas)), '-')\n",
    "\n",
    "\n",
    "for i in range(len(nfl['jardas por recepção'])):\n",
    "    plt.plot((jardas[i], jardas[i]), (q_lognorm[i], jardas[i]), '-', color='green', alpha=0.7  )\n",
    "    plt.plot((jardas[i], jardas[i]), (q_gauss[i], jardas[i]), '-', color='red', alpha=0.7  )"
   ]
  },
  {
   "cell_type": "markdown",
   "metadata": {},
   "source": [
    "### Testes de aderência que usam a diferença entre quantis"
   ]
  },
  {
   "cell_type": "markdown",
   "metadata": {},
   "source": [
    "### Erros quadráticos e erros quadráticos médios"
   ]
  },
  {
   "cell_type": "code",
   "execution_count": 133,
   "metadata": {
    "collapsed": false
   },
   "outputs": [
    {
     "name": "stdout",
     "output_type": "stream",
     "text": [
      "Erro quadrático da lognorm: 1.291\n",
      "Erro quadrático da invgauss: 1.350\n",
      "\n",
      "Erro quadratico médio da lognorm: 0.0403555573624\n",
      "Erro quadratico médio da invgauss: 0.0421810585754\n"
     ]
    }
   ],
   "source": [
    "#Erro quadrático:\n",
    "erro_quadratico_lognorm = sum((jardas - q_lognorm)**2)\n",
    "erro_quadratico_gauss = sum((jardas - q_gauss)**2)\n",
    "\n",
    "print(\"Erro quadrático da lognorm: {:4.3f}\".format(erro_quadratico_lognorm))\n",
    "print(\"Erro quadrático da invgauss: {:4.3f}\\n\".format(erro_quadratico_gauss))\n",
    "\n",
    "#Erro quadrático médio:\n",
    "eqm_lognorm = erro_quadratico_lognorm/len(jardas)\n",
    "eqm_gauss = erro_quadratico_gauss/len(jardas)\n",
    "\n",
    "print(\"Erro quadratico médio da lognorm:\", eqm_lognorm)\n",
    "print(\"Erro quadratico médio da invgauss:\", eqm_gauss)"
   ]
  },
  {
   "cell_type": "markdown",
   "metadata": {},
   "source": [
    "Observando os erros quadráticos, observamos que os erros da lognorm são menores e portanto aparentam ser mais adequados"
   ]
  },
  {
   "cell_type": "code",
   "execution_count": 150,
   "metadata": {
    "collapsed": false
   },
   "outputs": [
    {
     "name": "stdout",
     "output_type": "stream",
     "text": [
      "Soma de diferenças da lognorm : 3.64672721889\n",
      "Soma de diferenças da invgauss : 3.67662429578\n"
     ]
    }
   ],
   "source": [
    "soma_diferenças_lognorm = sum(abs(jardas - q_lognorm))\n",
    "soma_diferenças_gauss = sum(abs(jardas - q_gauss))\n",
    "\n",
    "print(\"Soma de diferenças da lognorm :\", soma_diferenças_lognorm)\n",
    "print(\"Soma de diferenças da invgauss :\", soma_diferenças_gauss)"
   ]
  },
  {
   "cell_type": "markdown",
   "metadata": {},
   "source": [
    "Com a soma das diferenças confirmamos a maior aderência da curva da lognorm."
   ]
  },
  {
   "cell_type": "markdown",
   "metadata": {},
   "source": [
    "### Item 9"
   ]
  },
  {
   "cell_type": "markdown",
   "metadata": {},
   "source": [
    "### Testes de aderência que usam a cumulativa"
   ]
  },
  {
   "cell_type": "markdown",
   "metadata": {},
   "source": [
    "As linhas verticais tracejadas ligam a diferença entre a função cumulativa de probabilidade teórica e aquela observada nos dados"
   ]
  },
  {
   "cell_type": "code",
   "execution_count": 148,
   "metadata": {
    "collapsed": false
   },
   "outputs": [
    {
     "data": {
      "image/png": "[encoded data removed]",
      "text/plain": [
       "<matplotlib.figure.Figure at 0x16e00ba39e8>"
      ]
     },
     "metadata": {},
     "output_type": "display_data"
    }
   ],
   "source": [
    "# fra e FDA\n",
    "cdf_lognorm = stats.lognorm.cdf(jardas, param_lognorm[0], loc=loc_lognorm, scale=scale_lognorm)\n",
    "cdf_gauss = stats.invgauss.cdf(jardas, scale=scale_gauss, loc=loc_gauss, mu=mu_gauss)\n",
    "\n",
    "\n",
    "fig = plt.figure(figsize=(10,7))\n",
    "\n",
    "plt.title(\"Cumulativa: Dados x LogNorm X InvGauss\")\n",
    "\n",
    "dados_fra_plot, = plt.plot(jardas, fra, '-', color='green', label=\"F.R.A dos dados\")\n",
    "cdf_lognorm_plot, = plt.plot(jardas, cdf_lognorm, '-', color='blue', label = \"Cumulativa da distribuição Lognorm\")\n",
    "cdf_gauss_plot, = plt.plot(jardas, cdf_gauss, '-', color='red', label = \"Cumulativa da distribuição InvGauss\")\n",
    "\n",
    "plt.legend(handles=[dados_fra_plot, cdf_lognorm_plot, cdf_gauss_plot])\n",
    "\n",
    "\n",
    "for i in range(len(nfl['jardas por recepção'])):   \n",
    "    plt.plot((jardas[i], jardas[i]), (fra[i], cdf_lognorm[i]), '--', color=\"green\", alpha=1)\n",
    "    plt.plot((jardas[i], jardas[i]), (fra[i], cdf_gauss[i]), '--', color=\"red\", alpha=1)\n",
    "    "
   ]
  },
  {
   "cell_type": "markdown",
   "metadata": {},
   "source": [
    "___\n",
    "### Itens 10 e 11 - Resolução:"
   ]
  },
  {
   "cell_type": "markdown",
   "metadata": {},
   "source": [
    "### Item 10"
   ]
  },
  {
   "cell_type": "markdown",
   "metadata": {},
   "source": [
    "### Erros quadráticos nas CDFs"
   ]
  },
  {
   "cell_type": "code",
   "execution_count": 135,
   "metadata": {
    "collapsed": false
   },
   "outputs": [
    {
     "name": "stdout",
     "output_type": "stream",
     "text": [
      "Erro quadrático da CDF da Lognorm versus F.R.A 0.062229743371\n",
      "Erro quadrático da CDF da InvGauss versus F.R.A 0.0625932142027\n"
     ]
    }
   ],
   "source": [
    "# Erro quadrático nas CDFs\n",
    "erro_quad_cdf_lognorm = sum((fra - cdf_lognorm)**2)\n",
    "\n",
    "erro_quad_cdf_gauss = sum((fra - cdf_gauss)**2)\n",
    "\n",
    "print(\"Erro quadrático da CDF da Lognorm versus F.R.A\", erro_quad_cdf_lognorm)\n",
    "print(\"Erro quadrático da CDF da InvGauss versus F.R.A\", erro_quad_cdf_gauss)"
   ]
  },
  {
   "cell_type": "markdown",
   "metadata": {
    "collapsed": true
   },
   "source": [
    "Comparando os erros quadráticos das CDFs com a F.R.A confirmamos mais uma vez que o modelo lognorm é mais adequado para essa análise"
   ]
  },
  {
   "cell_type": "code",
   "execution_count": null,
   "metadata": {
    "collapsed": true
   },
   "outputs": [],
   "source": []
  },
  {
   "cell_type": "markdown",
   "metadata": {},
   "source": [
    "## Conclusão\n",
    "Com todas as análises feitas é possível concluir que o modelo lognorm é mais adequado que o modelo inversa gaussiana para satisfazer o histograma das médias de jardas por recepção dos times da NFL em 2006."
   ]
  }
 ],
 "metadata": {
  "anaconda-cloud": {},
  "kernelspec": {
   "display_name": "Python 3",
   "language": "python",
   "name": "python3"
  },
  "language_info": {
   "codemirror_mode": {
    "name": "ipython",
    "version": 3
   },
   "file_extension": ".py",
   "mimetype": "text/x-python",
   "name": "python",
   "nbconvert_exporter": "python",
   "pygments_lexer": "ipython3",
   "version": "3.5.2"
  }
 },
 "nbformat": 4,
 "nbformat_minor": 0
}
